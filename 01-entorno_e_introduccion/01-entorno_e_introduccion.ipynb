{
 "cells": [
  {
   "cell_type": "markdown",
   "id": "542cf31c",
   "metadata": {},
   "source": [
    "### **Introducción a Python para la programación**"
   ]
  },
  {
   "cell_type": "markdown",
   "id": "7b8fb3a5",
   "metadata": {},
   "source": [
    " 3.1. Using Python as a Calculato "
   ]
  },
  {
   "cell_type": "markdown",
   "id": "dbeed2dc",
   "metadata": {},
   "source": [
    "3.1.1. Numbers"
   ]
  },
  {
   "cell_type": "markdown",
   "id": "a37b1d8a",
   "metadata": {},
   "source": [
    "The interpreter acts as a simple calculator: you can type an expression at it and it will write the value. Expression syntax is straightforward: the operators +, -, * and / can be used to perform arithmetic; parentheses (()) can be used for grouping. For example:"
   ]
  },
  {
   "cell_type": "code",
   "execution_count": 1,
   "id": "99632c63",
   "metadata": {},
   "outputs": [
    {
     "data": {
      "text/plain": [
       "1.6"
      ]
     },
     "execution_count": 1,
     "metadata": {},
     "output_type": "execute_result"
    }
   ],
   "source": [
    "2 + 2\n",
    "4\n",
    "50 - 5*6\n",
    "20\n",
    "(50 - 5*6) / 4\n",
    "5.0\n",
    "8 / 5  # division always returns a floating-point number\n",
    "1.6"
   ]
  },
  {
   "cell_type": "code",
   "execution_count": null,
   "id": "1e4959ff",
   "metadata": {},
   "outputs": [
    {
     "name": "stdout",
     "output_type": "stream",
     "text": [
      "La respuesta es: 4\n",
      "La respuesta es: 4\n"
     ]
    }
   ],
   "source": [
    "#Si queremos ver cada respuesta de las expresiones debemos realizarle un print\n",
    "print(\"La respuesta es:\", 2+2)\n",
    "\n",
    "# Si queremos mejorar las operaciones podríamos asignarles valores \n",
    "a = 2 \n",
    "b = 2 \n",
    "c = a + b \n",
    "print(\"La respuesta es:\", c )"
   ]
  },
  {
   "cell_type": "markdown",
   "id": "7b91a62f",
   "metadata": {},
   "source": [
    "The integer numbers (e.g. 2, 4, 20) have type int, the ones with a fractional part (e.g. 5.0, 1.6) have type float. We will see more about numeric types later in the tutorial.\n",
    "\n",
    "Division (/) always returns a float. To do floor division and get an integer result you can use the // operator; to calculate the remainder you can use %:"
   ]
  },
  {
   "cell_type": "code",
   "execution_count": 12,
   "id": "31a98a8e",
   "metadata": {},
   "outputs": [
    {
     "data": {
      "text/plain": [
       "17"
      ]
     },
     "execution_count": 12,
     "metadata": {},
     "output_type": "execute_result"
    }
   ],
   "source": [
    "17 / 3  # classic division returns a float\n",
    "5.666666666666667\n",
    "\n",
    "17 // 3  # floor division discards the fractional part\n",
    "5\n",
    "17 % 3  # the % operator returns the remainder of the division\n",
    "2\n",
    "5 * 3 + 2  # floored quotient * divisor + remainder\n",
    "17"
   ]
  },
  {
   "cell_type": "code",
   "execution_count": null,
   "id": "3477de63",
   "metadata": {},
   "outputs": [
    {
     "name": "stdout",
     "output_type": "stream",
     "text": [
      "<class 'float'> 5.666666666666667\n",
      "<class 'int'> 5\n",
      "<class 'int'> 2\n",
      "<class 'int'> 17\n"
     ]
    }
   ],
   "source": [
    "#Adicionalmente podemos tener distintos tipos de valores\n",
    "a = (17 / 3)\n",
    "print(type(a), a)  # classic division returns a float\n",
    "#5.666666666666667\n",
    "\n",
    "b = (17 // 3)\n",
    "print(type(b), b) # floor division discards the fractional part\n",
    "#5\n",
    "\n",
    "c = 17 % 3\n",
    "print(type(c), c)# the % operator returns the remainder(residuo) of the division\n",
    "#2\n",
    "\n",
    "d = 5 * 3 + 2\n",
    "print(type(d), d)  # floored quotient * divisor + remainder\n",
    "#17"
   ]
  },
  {
   "cell_type": "code",
   "execution_count": null,
   "id": "75d5fcee",
   "metadata": {},
   "outputs": [],
   "source": []
  }
 ],
 "metadata": {
  "kernelspec": {
   "display_name": "Python 3",
   "language": "python",
   "name": "python3"
  },
  "language_info": {
   "codemirror_mode": {
    "name": "ipython",
    "version": 3
   },
   "file_extension": ".py",
   "mimetype": "text/x-python",
   "name": "python",
   "nbconvert_exporter": "python",
   "pygments_lexer": "ipython3",
   "version": "3.12.1"
  }
 },
 "nbformat": 4,
 "nbformat_minor": 5
}
